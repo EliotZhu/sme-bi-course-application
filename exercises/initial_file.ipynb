{
 "cells": [
  {
   "cell_type": "markdown",
   "metadata": {
    "application/vnd.databricks.v1+cell": {
     "cellMetadata": {},
     "inputWidgets": {},
     "nuid": "8b151af5-59e5-49cf-b55c-9dde15051d34",
     "showTitle": false,
     "title": ""
    }
   },
   "source": [
    "# Data Analytics with Databricks: A Case Study Approach\n",
    "## Chapter Two\n",
    "\n",
    "In this chapter, we will concentrate on the ingestion, cleaning, and management of the Airbnb Reviews dataset. Learners will utilize SQL to perform data cleaning and preparation tasks."
   ]
  },
  {
   "cell_type": "markdown",
   "metadata": {
    "application/vnd.databricks.v1+cell": {
     "cellMetadata": {},
     "inputWidgets": {},
     "nuid": "ac9c7873-b816-445e-9198-9953be8ce22e",
     "showTitle": false,
     "title": ""
    }
   },
   "source": [
    "### Exercise 1: Removing Duplicates and Handling Missing Values (SQL-based)\n",
    "\n",
    "#### **Dataset**\n",
    "- The dataset is located in the `hive_metastore.default.airbnb_open_data` table.\n",
    "\n",
    "#### **Output**\n",
    "- Your output should be stored at: `hive_metastore.default.airbnb_open_data_copy`\n",
    "\n",
    "#### **Learning Objective**\n",
    "- Learn how to identify and remove duplicate entries and handle missing values in a SQL table.\n",
    "\n",
    "#### **Context**\n",
    "This exercise focuses on data cleaning, specifically identifying duplicate rows and handling missing values. Cleaning data is a crucial step in preparing datasets for analysis and ensures that insights are based on accurate, high-quality information.\n",
    "\n",
    "\n",
    "\n",
    "#### **Exercise Question:**\n",
    "- After removing duplicates and imputing missing values, how many rows remain in the dataset?\n",
    "\n",
    "#### **End Goal:**\n",
    "- A clean dataset with no duplicates and no missing values in the `review_score` column.\n",
    "\n"
   ]
  },
  {
   "cell_type": "markdown",
   "metadata": {
    "application/vnd.databricks.v1+cell": {
     "cellMetadata": {},
     "inputWidgets": {},
     "nuid": "84f247a4-2b4e-46d0-829d-3145dc7aa230",
     "showTitle": false,
     "title": ""
    }
   },
   "source": [
    "#### **Steps to be executed by the student:**\n",
    "1. Write a query to find and count duplicate entries based on `host_id`, `last_review`, and `list_id`:"
   ]
  },
  {
   "cell_type": "markdown",
   "metadata": {
    "application/vnd.databricks.v1+cell": {
     "cellMetadata": {},
     "inputWidgets": {},
     "nuid": "cf1dc0ca-fb10-4343-89a1-cc3e952eca86",
     "showTitle": false,
     "title": ""
    }
   },
   "source": [
    "First we need to create a copy of the raw dataset "
   ]
  },
  {
   "cell_type": "code",
   "execution_count": 0,
   "metadata": {
    "application/vnd.databricks.v1+cell": {
     "cellMetadata": {},
     "inputWidgets": {},
     "nuid": "f94ff446-c646-437b-a27c-5274f65a5f5b",
     "showTitle": false,
     "title": ""
    }
   },
   "outputs": [],
   "source": [
    "%sql\n",
    "CREATE TABLE hive_metastore.default.airbnb_open_data_copy AS\n",
    "SELECT * \n",
    "FROM hive_metastore.default.airbnb_open_data;"
   ]
  },
  {
   "cell_type": "code",
   "execution_count": 0,
   "metadata": {
    "application/vnd.databricks.v1+cell": {
     "cellMetadata": {
      "byteLimit": 2048000,
      "implicitDf": true,
      "rowLimit": 10000
     },
     "inputWidgets": {},
     "nuid": "7b26721c-cde1-40ac-893c-5ebbd268e790",
     "showTitle": false,
     "title": ""
    }
   },
   "outputs": [],
   "source": [
    "%sql\n"
   ]
  },
  {
   "cell_type": "markdown",
   "metadata": {
    "application/vnd.databricks.v1+cell": {
     "cellMetadata": {},
     "inputWidgets": {},
     "nuid": "619e3628-eb80-412b-ad86-628604f24374",
     "showTitle": false,
     "title": ""
    }
   },
   "source": [
    "2. Select only the latest review for each duplicate group."
   ]
  },
  {
   "cell_type": "code",
   "execution_count": 0,
   "metadata": {
    "application/vnd.databricks.v1+cell": {
     "cellMetadata": {
      "byteLimit": 2048000,
      "implicitDf": true,
      "rowLimit": 10000
     },
     "inputWidgets": {},
     "nuid": "e4afe138-46ff-438a-a0f8-738083121444",
     "showTitle": false,
     "title": ""
    }
   },
   "outputs": [],
   "source": [
    "%sql\n",
    "\n"
   ]
  },
  {
   "cell_type": "markdown",
   "metadata": {
    "application/vnd.databricks.v1+cell": {
     "cellMetadata": {},
     "inputWidgets": {},
     "nuid": "b61235c5-14be-4e40-a3c1-be80614b7cf2",
     "showTitle": false,
     "title": ""
    }
   },
   "source": [
    "3. Identify missing values in price:"
   ]
  },
  {
   "cell_type": "code",
   "execution_count": 0,
   "metadata": {
    "application/vnd.databricks.v1+cell": {
     "cellMetadata": {
      "byteLimit": 2048000,
      "implicitDf": true,
      "rowLimit": 10000
     },
     "inputWidgets": {},
     "nuid": "90f40bc3-41f1-4390-ab2f-df3e8d2e3c5c",
     "showTitle": false,
     "title": ""
    }
   },
   "outputs": [],
   "source": [
    "%sql"
   ]
  },
  {
   "cell_type": "markdown",
   "metadata": {
    "application/vnd.databricks.v1+cell": {
     "cellMetadata": {},
     "inputWidgets": {},
     "nuid": "c86ccb7a-6889-43b6-82b7-21bfc2efb1d3",
     "showTitle": false,
     "title": ""
    }
   },
   "source": [
    "4. Impute missing values in the `review_score` column with the average score of the dataset:"
   ]
  },
  {
   "cell_type": "code",
   "execution_count": 0,
   "metadata": {
    "application/vnd.databricks.v1+cell": {
     "cellMetadata": {
      "byteLimit": 2048000,
      "implicitDf": true,
      "rowLimit": 10000
     },
     "inputWidgets": {},
     "nuid": "28911704-0f22-4876-ba19-b6239f834837",
     "showTitle": false,
     "title": ""
    }
   },
   "outputs": [],
   "source": [
    "%sql"
   ]
  },
  {
   "cell_type": "markdown",
   "metadata": {
    "application/vnd.databricks.v1+cell": {
     "cellMetadata": {},
     "inputWidgets": {},
     "nuid": "a704cc91-a00e-46fd-b4f5-f6980b2bd6dc",
     "showTitle": false,
     "title": ""
    }
   },
   "source": [
    "Display the count of missing values in price after imputation:"
   ]
  },
  {
   "cell_type": "code",
   "execution_count": 0,
   "metadata": {
    "application/vnd.databricks.v1+cell": {
     "cellMetadata": {},
     "inputWidgets": {},
     "nuid": "e188e2b4-7cab-4551-999a-df231e125c33",
     "showTitle": false,
     "title": ""
    }
   },
   "outputs": [],
   "source": [
    "%sql\n"
   ]
  },
  {
   "cell_type": "markdown",
   "metadata": {
    "application/vnd.databricks.v1+cell": {
     "cellMetadata": {},
     "inputWidgets": {},
     "nuid": "4bb85561-a167-40f6-b59c-15963140764f",
     "showTitle": false,
     "title": ""
    }
   },
   "source": [
    "### Exercise 2: Calculating Summary Statistics (SQL-based)\n",
    "\n",
    "#### **Dataset**\n",
    "- The dataset is located in the `hive_metastore.default.airbnb_open_data` table.\n",
    "\n",
    "#### **Output**\n",
    "- Your output should be stored at: `hive_metastore.default.airbnb_open_data_copy`\n",
    "\n",
    "#### **Learning Objective**\n",
    "- Learn how to calculate summary statistics such as averages and counts using SQL.\n",
    "\n",
    "#### **Context**\n",
    "Understanding how to calculate summary statistics is essential for analyzing datasets. This exercise teaches learners how to use SQL to gain insights into the data by calculating the average review score per city and the total number of reviews per host.\n",
    "\n",
    "\n",
    "#### **Exercise Question:**\n",
    "- What is the average review score for \"Los Angeles\"?\n",
    "\n",
    "#### **End Goal:**\n",
    "- A table displaying the average review score per city and the total number of reviews per host."
   ]
  },
  {
   "cell_type": "markdown",
   "metadata": {
    "application/vnd.databricks.v1+cell": {
     "cellMetadata": {},
     "inputWidgets": {},
     "nuid": "21a41f35-e3be-4df2-8566-f2c227cafa40",
     "showTitle": false,
     "title": ""
    }
   },
   "source": [
    "#### **Steps to be executed by the student:**"
   ]
  },
  {
   "cell_type": "markdown",
   "metadata": {
    "application/vnd.databricks.v1+cell": {
     "cellMetadata": {},
     "inputWidgets": {},
     "nuid": "6a1381f4-7742-47a5-8466-d07547dabb4f",
     "showTitle": false,
     "title": ""
    }
   },
   "source": [
    "### Solution"
   ]
  },
  {
   "cell_type": "markdown",
   "metadata": {
    "application/vnd.databricks.v1+cell": {
     "cellMetadata": {},
     "inputWidgets": {},
     "nuid": "f2a9702a-0276-4562-8099-4ddd220f928e",
     "showTitle": false,
     "title": ""
    }
   },
   "source": [
    "1. Write a query to calculate the average `review_rate_number` for each `neighbourhood_group`:"
   ]
  },
  {
   "cell_type": "code",
   "execution_count": 0,
   "metadata": {
    "application/vnd.databricks.v1+cell": {
     "cellMetadata": {
      "byteLimit": 2048000,
      "implicitDf": true,
      "rowLimit": 10000
     },
     "inputWidgets": {},
     "nuid": "7c521794-f469-4462-8164-af6879ed61f2",
     "showTitle": false,
     "title": ""
    }
   },
   "outputs": [],
   "source": [
    "%sql\n"
   ]
  },
  {
   "cell_type": "markdown",
   "metadata": {
    "application/vnd.databricks.v1+cell": {
     "cellMetadata": {},
     "inputWidgets": {},
     "nuid": "dbb168b7-abf4-41c9-beb8-77d24422bf01",
     "showTitle": false,
     "title": ""
    }
   },
   "source": [
    "2. Write a query to count the total number of reviews for each host:"
   ]
  },
  {
   "cell_type": "code",
   "execution_count": 0,
   "metadata": {
    "application/vnd.databricks.v1+cell": {
     "cellMetadata": {
      "byteLimit": 2048000,
      "implicitDf": true,
      "rowLimit": 10000
     },
     "inputWidgets": {},
     "nuid": "42d44158-1ea4-4980-868a-ed4c15f1d5b6",
     "showTitle": false,
     "title": ""
    }
   },
   "outputs": [],
   "source": [
    "%sql"
   ]
  },
  {
   "cell_type": "markdown",
   "metadata": {
    "application/vnd.databricks.v1+cell": {
     "cellMetadata": {},
     "inputWidgets": {},
     "nuid": "5924ce25-a893-4ac8-9893-d70b37916b62",
     "showTitle": false,
     "title": ""
    }
   },
   "source": [
    "3. Combine both statistics into one query using subqueries:"
   ]
  },
  {
   "cell_type": "code",
   "execution_count": 0,
   "metadata": {
    "application/vnd.databricks.v1+cell": {
     "cellMetadata": {
      "byteLimit": 2048000,
      "implicitDf": true,
      "rowLimit": 10000
     },
     "inputWidgets": {},
     "nuid": "6110bcf5-705f-417d-8c52-3d226542f848",
     "showTitle": false,
     "title": ""
    }
   },
   "outputs": [],
   "source": [
    "%sql\n"
   ]
  }
 ],
 "metadata": {
  "application/vnd.databricks.v1+notebook": {
   "dashboards": [],
   "environmentMetadata": {
    "base_environment": "",
    "client": "1"
   },
   "language": "python",
   "notebookMetadata": {
    "mostRecentlyExecutedCommandWithImplicitDF": {
     "commandId": 1489448485141766,
     "dataframes": [
      "_sqldf"
     ]
    },
    "pythonIndentUnit": 2
   },
   "notebookName": "initial_file",
   "widgets": {}
  }
 },
 "nbformat": 4,
 "nbformat_minor": 0
}
